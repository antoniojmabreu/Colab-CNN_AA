{
  "nbformat": 4,
  "nbformat_minor": 0,
  "metadata": {
    "colab": {
      "name": "mnist_cnn.ipynb",
      "provenance": [],
      "collapsed_sections": []
    },
    "kernelspec": {
      "name": "python3",
      "display_name": "Python 3"
    }
  },
  "cells": [
    {
      "cell_type": "markdown",
      "metadata": {
        "id": "pebleo-bnR2u"
      },
      "source": [
        "Vamos utilizar o tensorflow em conjunto com o keras para construir, compilar e treinar a nossa rede neuronal. Por isso vamos importar as bibliotecas necessárias.\n"
      ]
    },
    {
      "cell_type": "code",
      "metadata": {
        "id": "KAEgjLWpnKg4"
      },
      "source": [
        "import tensorflow as tf\n",
        "from tensorflow.keras import layers\n",
        "from tensorflow.keras.utils import to_categorical"
      ],
      "execution_count": 2,
      "outputs": []
    },
    {
      "cell_type": "markdown",
      "metadata": {
        "id": "_vSQLdCKncNG"
      },
      "source": [
        "Antes de podermos treinar a rede é necessário obter o dataset. O keras possui um conjunto de datasets já embutidos, um destes é o MNIST. Vamos aproveitar para alterar o formato dos dados de entrada de forma a respeitarem a entrada da rede que vamos construir."
      ]
    },
    {
      "cell_type": "code",
      "metadata": {
        "id": "HzzlxPQAnaD7",
        "outputId": "40faa3ac-4b5d-4d5a-bf47-f0272c5563bc",
        "colab": {
          "base_uri": "https://localhost:8080/"
        }
      },
      "source": [
        "(train_images, train_labels), (test_images, test_labels) = tf.keras.datasets.mnist.load_data()\n",
        "\n",
        "train_images = train_images.reshape((60000, 28, 28, 1))\n",
        "test_images = test_images.reshape((10000, 28, 28, 1))\n",
        "\n",
        "# Guardamos 10 mil imagens para o conjunto de validação e 50 mil para o de teste\n",
        "val_images   = train_images[50000:60000]\n",
        "train_images = train_images[0:50000]\n",
        "\n",
        "val_labels   = train_labels[50000:60000]\n",
        "train_labels = train_labels[0:50000]"
      ],
      "execution_count": 3,
      "outputs": [
        {
          "output_type": "stream",
          "text": [
            "Downloading data from https://storage.googleapis.com/tensorflow/tf-keras-datasets/mnist.npz\n",
            "11493376/11490434 [==============================] - 0s 0us/step\n"
          ],
          "name": "stdout"
        }
      ]
    },
    {
      "cell_type": "markdown",
      "metadata": {
        "id": "v7cB7Ia7np66"
      },
      "source": [
        "Este passo é opcional, porém extremamente importante\n",
        "Normalizar os dados das imagens facilita o processo de treino da rede neuronal\n",
        "pois diminui a ordem de grandeza com que é trabalhada, \n",
        "neste caso em vez de termos dados no conjunto [0, 255] passamos a ter dados no conjunto [0.0, 1.0]"
      ]
    },
    {
      "cell_type": "code",
      "metadata": {
        "id": "AlI2r8Sanobt"
      },
      "source": [
        "train_images, val_images, test_images = train_images / 255.0, val_images/ 255.0, test_images / 255.0\n",
        "\n",
        "train_labels, val_labels, test_labels = to_categorical(train_labels), to_categorical(val_labels), to_categorical(test_labels)"
      ],
      "execution_count": 4,
      "outputs": []
    },
    {
      "cell_type": "markdown",
      "metadata": {
        "id": "W3NQyKOdoDAB"
      },
      "source": [
        "Agora que temos um dataset normalizado vamos construir a rede neuronal."
      ]
    },
    {
      "cell_type": "code",
      "metadata": {
        "id": "TadcT5E1oBh1",
        "outputId": "e41d895c-b0e8-42e7-ff03-1792d9ce190f",
        "colab": {
          "base_uri": "https://localhost:8080/"
        }
      },
      "source": [
        "model = tf.keras.models.Sequential()\n",
        "# Como as nossas imagens tem o formato (28,28, 1) definimo-lo como formato de entrada da primeira camada da rede\n",
        "model.add(layers.Conv2D(32, (3, 3), activation='relu', input_shape=(28, 28, 1)))\n",
        "model.add(layers.MaxPooling2D((2, 2)))\n",
        "model.add(layers.Conv2D(64, (3, 3), activation='relu'))\n",
        "model.add(layers.MaxPooling2D((2, 2)))\n",
        "model.add(layers.Conv2D(64, (3, 3), activation='relu'))\n",
        "# A parte classificatória da CNN é composta por camadas densamente conectadas,\n",
        "# assim sendo, é necessário alterar o formato da saída da última camada convolucional\n",
        "# para um vetor. A camada Flatten altera o formato da sua entrada para um vetor, tal como era necessário.\n",
        "model.add(layers.Flatten())\n",
        "model.add(layers.Dense(64, activation='relu'))\n",
        "# O output da última camada é especial, pois corresponde ao número de classes que o nosso problema possui\n",
        "model.add(layers.Dense(10, activation='softmax'))\n",
        "\n",
        "# P\n",
        "print(model.summary())"
      ],
      "execution_count": 5,
      "outputs": [
        {
          "output_type": "stream",
          "text": [
            "Model: \"sequential\"\n",
            "_________________________________________________________________\n",
            "Layer (type)                 Output Shape              Param #   \n",
            "=================================================================\n",
            "conv2d (Conv2D)              (None, 26, 26, 32)        320       \n",
            "_________________________________________________________________\n",
            "max_pooling2d (MaxPooling2D) (None, 13, 13, 32)        0         \n",
            "_________________________________________________________________\n",
            "conv2d_1 (Conv2D)            (None, 11, 11, 64)        18496     \n",
            "_________________________________________________________________\n",
            "max_pooling2d_1 (MaxPooling2 (None, 5, 5, 64)          0         \n",
            "_________________________________________________________________\n",
            "conv2d_2 (Conv2D)            (None, 3, 3, 64)          36928     \n",
            "_________________________________________________________________\n",
            "flatten (Flatten)            (None, 576)               0         \n",
            "_________________________________________________________________\n",
            "dense (Dense)                (None, 64)                36928     \n",
            "_________________________________________________________________\n",
            "dense_1 (Dense)              (None, 10)                650       \n",
            "=================================================================\n",
            "Total params: 93,322\n",
            "Trainable params: 93,322\n",
            "Non-trainable params: 0\n",
            "_________________________________________________________________\n",
            "None\n"
          ],
          "name": "stdout"
        }
      ]
    },
    {
      "cell_type": "markdown",
      "metadata": {
        "id": "m9tf-Fc2oaWv"
      },
      "source": [
        "Para podermos treinar esta rede é ainda necessário decidir:\n",
        " - Métrica;\n",
        " - Função de perda;\n",
        " - Otimizador.\n",
        "\n",
        " Este processo é chamado de processo de compilação.\n",
        "\n",
        "A escolha deste parametros pode ser feita tendo como base a seguinte tabela:\n",
        "\n",
        "| Tipo de Problema              | Ativação da Última Camada | Função de Perda            |\n",
        "| :---------------------------- | :------------------------ | :------------------------- |\n",
        "| Classificação Binária         | sigmoid                   | binary_crossentropy        |\n",
        "| N-Classes, 1 label            | softmax                   | categorical_crossentropy   |\n",
        "| N-Classes, M-labels           | sigmoid                   | binary_crossentropy        |\n",
        "| Regressão abritária           | nenhum                    | mse                        |\n",
        "| Regressão de valores [0, 1]   | nenhum                    | mse ou binary_crossentropy |"
      ]
    },
    {
      "cell_type": "code",
      "metadata": {
        "id": "h9qfNcZ_oUsG"
      },
      "source": [
        "model.compile(optimizer='rmsprop', loss='categorical_crossentropy', metrics=['accuracy'])"
      ],
      "execution_count": 6,
      "outputs": []
    },
    {
      "cell_type": "markdown",
      "metadata": {
        "id": "HzvdrhNmo1Se"
      },
      "source": [
        "Para treinar uma rede neuronal em Tensorflow, podemos utilizar a função `fit`. No nosso caso vamos treinar a nossa rede durante 5 épocas, e cada lote irá conter 64 imagens.\n",
        "\n",
        "Como o nosso conjunto de treino tem 50 mil imagens, uma época será composta por 782 passos."
      ]
    },
    {
      "cell_type": "code",
      "metadata": {
        "id": "RSzCB52Do0dY",
        "outputId": "40dbfa08-60d1-47f7-9840-78d88c95e95b",
        "colab": {
          "base_uri": "https://localhost:8080/"
        }
      },
      "source": [
        "history = model.fit(train_images, train_labels, epochs=5, batch_size=64, validation_data=(val_images, val_labels))"
      ],
      "execution_count": 7,
      "outputs": [
        {
          "output_type": "stream",
          "text": [
            "Epoch 1/5\n",
            "782/782 [==============================] - 42s 54ms/step - loss: 0.1987 - accuracy: 0.9385 - val_loss: 0.0589 - val_accuracy: 0.9821\n",
            "Epoch 2/5\n",
            "782/782 [==============================] - 42s 53ms/step - loss: 0.0524 - accuracy: 0.9837 - val_loss: 0.0456 - val_accuracy: 0.9879\n",
            "Epoch 3/5\n",
            "782/782 [==============================] - 41s 53ms/step - loss: 0.0362 - accuracy: 0.9888 - val_loss: 0.0439 - val_accuracy: 0.9865\n",
            "Epoch 4/5\n",
            "782/782 [==============================] - 41s 53ms/step - loss: 0.0272 - accuracy: 0.9913 - val_loss: 0.0429 - val_accuracy: 0.9895\n",
            "Epoch 5/5\n",
            "782/782 [==============================] - 41s 53ms/step - loss: 0.0212 - accuracy: 0.9933 - val_loss: 0.0398 - val_accuracy: 0.9892\n"
          ],
          "name": "stdout"
        }
      ]
    },
    {
      "cell_type": "markdown",
      "metadata": {
        "id": "o3FDEs0HxAb9"
      },
      "source": [
        "Vamos gerar o gráfico da precisão da rede, para observarmos melhor a evolução do modelo."
      ]
    },
    {
      "cell_type": "code",
      "metadata": {
        "id": "xchO5aqeqtpn",
        "outputId": "8cc356c5-1007-408b-8277-2b587559568e",
        "colab": {
          "base_uri": "https://localhost:8080/",
          "height": 295
        }
      },
      "source": [
        "import matplotlib.pyplot as plt\n",
        "\n",
        "acc = history.history['accuracy']\n",
        "val_acc = history.history['val_accuracy']\n",
        "\n",
        "history_dict = history.history\n",
        "epochs = range(1, len(acc) + 1)\n",
        "\n",
        "plt.plot(epochs, acc, 'bo', label='Training acc')\n",
        "plt.plot(epochs, val_acc, 'b', label='Validation acc')\n",
        "\n",
        "plt.title('Training and validation accuracy')\n",
        "plt.xlabel('Epochs')\n",
        "plt.ylabel('Accuracy')\n",
        "plt.legend()\n",
        "plt.show()"
      ],
      "execution_count": 9,
      "outputs": [
        {
          "output_type": "display_data",
          "data": {
            "image/png": "[encoded data removed]",
            "text/plain": [
              "<Figure size 432x288 with 1 Axes>"
            ]
          },
          "metadata": {
            "tags": [],
            "needs_background": "light"
          }
        }
      ]
    },
    {
      "cell_type": "markdown",
      "metadata": {
        "id": "Eo-N2ZKzw-N6"
      },
      "source": [
        "Depois de satisfeitos com os resultados nos conjuntos de treino e de validação. Vamos realizar o teste final."
      ]
    },
    {
      "cell_type": "code",
      "metadata": {
        "id": "gIYoWL4apH1W",
        "outputId": "c336861d-20bf-4c7f-fe6a-7ba3d1c1cf50",
        "colab": {
          "base_uri": "https://localhost:8080/"
        }
      },
      "source": [
        "# Avaliação\n",
        "test_loss, test_acc = model.evaluate(test_images, test_labels)\n",
        "\n",
        "print('acc: ', test_acc * 100)\n",
        "print('loss:', test_loss * 100)"
      ],
      "execution_count": 10,
      "outputs": [
        {
          "output_type": "stream",
          "text": [
            "313/313 [==============================] - 3s 9ms/step - loss: 0.0300 - accuracy: 0.9910\n",
            "acc:  99.09999966621399\n",
            "loss: 2.995535358786583\n"
          ],
          "name": "stdout"
        }
      ]
    }
  ]
}